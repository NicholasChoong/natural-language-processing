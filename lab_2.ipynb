{
  "cells": [
    {
      "cell_type": "markdown",
      "metadata": {
        "colab_type": "text",
        "id": "view-in-github"
      },
      "source": [
        "<a href=\"https://colab.research.google.com/github/NicholasChoong/natural-language-processing/blob/main/lab_2.ipynb\" target=\"_parent\"><img src=\"https://colab.research.google.com/assets/colab-badge.svg\" alt=\"Open In Colab\"/></a>"
      ]
    },
    {
      "cell_type": "markdown",
      "metadata": {
        "id": "GCHPkKbuhPF6"
      },
      "source": [
        "# Lab 02\n",
        "\n",
        "Today we will investigate some word representation models.\n",
        "**There are several new google colab, drive features in this Lab 02 so PLEASE attend your Lab (tutorial) and go through with your tutors.**\n"
      ]
    },
    {
      "cell_type": "markdown",
      "metadata": {
        "id": "qZ0HLTPGemjV"
      },
      "source": [
        "## Word2Vec"
      ]
    },
    {
      "cell_type": "code",
      "execution_count": 16,
      "metadata": {
        "colab": {
          "base_uri": "https://localhost:8080/"
        },
        "id": "GNyhgK5QTOuD",
        "outputId": "d0823e5a-27ce-44fc-e1a0-1d91437c1c48"
      },
      "outputs": [
        {
          "name": "stderr",
          "output_type": "stream",
          "text": [
            "[nltk_data] Downloading package punkt to\n",
            "[nltk_data]     /Users/nicholaschoong/nltk_data...\n",
            "[nltk_data]   Package punkt is already up-to-date!\n"
          ]
        }
      ],
      "source": [
        "import pprint\n",
        "import re\n",
        "\n",
        "# For parsing our XML data\n",
        "from lxml import etree \n",
        "\n",
        "# For data processing\n",
        "import nltk\n",
        "nltk.download('punkt')\n",
        "from nltk.tokenize import word_tokenize, sent_tokenize\n",
        "\n",
        "# For implementing the word2vec family of algorithms\n",
        "from gensim.models import Word2Vec\n",
        "\n",
        "import warnings\n",
        "warnings.simplefilter(action='ignore', category=FutureWarning)"
      ]
    },
    {
      "cell_type": "markdown",
      "metadata": {
        "id": "Bmae7urS8RHD"
      },
      "source": [
        "### Download data from Google Drive\n",
        "For today's lab we will download and use the TED script data from Google Drive."
      ]
    },
    {
      "cell_type": "markdown",
      "metadata": {
        "id": "gV7vMHSahdnf"
      },
      "source": [
        "#### Google Drive Access Setup\n",
        "Running the following code will generate a link and a field for entering a verification code.\n",
        "\n",
        "Click the link, which will direct to the Google Sign In page. Sign in with your own Google account by following the instructions on the page.\n",
        "\n",
        "Then copy the generated verification code from the page into the verification code field and press Enter "
      ]
    },
    {
      "cell_type": "code",
      "execution_count": 10,
      "metadata": {
        "id": "oTSQtnPkfyzj"
      },
      "outputs": [
        {
          "name": "stdout",
          "output_type": "stream",
          "text": [
            "Your browser has been opened to visit:\n",
            "\n",
            "    https://accounts.google.com/o/oauth2/auth?client_id=865330922011-68krup7rrj2b3tn7idua24bgoutsu5kk.apps.googleusercontent.com&redirect_uri=http%3A%2F%2Flocalhost%3A8080%2F&scope=https%3A%2F%2Fwww.googleapis.com%2Fauth%2Fdrive&access_type=online&response_type=code\n",
            "\n",
            "Authentication successful.\n"
          ]
        }
      ],
      "source": [
        "# !pip install -U -q PyDrive\n",
        "# from google.colab import auth\n",
        "# from oauth2client.client import GoogleCredentials\n",
        "\n",
        "# Authenticate and create the PyDrive client.\n",
        "# auth.authenticate_user()\n",
        "# gauth.credentials = GoogleCredentials.get_application_default()\n",
        "\n",
        "from pydrive2.auth import GoogleAuth\n",
        "from pydrive2.drive import GoogleDrive\n",
        "gauth = GoogleAuth()\n",
        "gauth.LocalWebserverAuth()\n",
        "drive = GoogleDrive(gauth)"
      ]
    },
    {
      "cell_type": "markdown",
      "metadata": {
        "id": "ewAbjQzThnT5"
      },
      "source": [
        "#### Downloading TED Scripts from Google Drive \n",
        "Click on left side \"Files\" tab and see the file is downloaded successfully."
      ]
    },
    {
      "cell_type": "code",
      "execution_count": 18,
      "metadata": {
        "id": "EVk7tjwvhl-6"
      },
      "outputs": [],
      "source": [
        "id = '1B47OiEiG2Lo1jUY6hy_zMmHBxfKQuJ8-'\n",
        "downloaded = drive.CreateFile({'id':id}) \n",
        "downloaded.GetContentFile('ted_en-20160408.xml')  "
      ]
    },
    {
      "cell_type": "markdown",
      "metadata": {
        "id": "FIPpEvI4kqMV"
      },
      "source": [
        "### Data Preprocessing"
      ]
    },
    {
      "cell_type": "code",
      "execution_count": 17,
      "metadata": {
        "colab": {
          "base_uri": "https://localhost:8080/"
        },
        "id": "VYmEQgB7XoDE",
        "outputId": "6a2b0c30-fe0f-4861-a390-7cc62c496795"
      },
      "outputs": [
        {
          "name": "stdout",
          "output_type": "stream",
          "text": [
            "[['here', 'are', 'two', 'reasons', 'companies', 'fail', 'they', 'only', 'do', 'more', 'of', 'the', 'same', 'or', 'they', 'only', 'do', 'what', 's', 'new'], ['to', 'me', 'the', 'real', 'real', 'solution', 'to', 'quality', 'growth', 'is', 'figuring', 'out', 'the', 'balance', 'between', 'two', 'activities', 'exploration', 'and', 'exploitation'], ['both', 'are', 'necessary', 'but', 'it', 'can', 'be', 'too', 'much', 'of', 'a', 'good', 'thing'], ['consider', 'facit'], ['i', 'm', 'actually', 'old', 'enough', 'to', 'remember', 'them'], ['facit', 'was', 'a', 'fantastic', 'company'], ['they', 'were', 'born', 'deep', 'in', 'the', 'swedish', 'forest', 'and', 'they', 'made', 'the', 'best', 'mechanical', 'calculators', 'in', 'the', 'world'], ['everybody', 'used', 'them'], ['and', 'what', 'did', 'facit', 'do', 'when', 'the', 'electronic', 'calculator', 'came', 'along'], ['they', 'continued', 'doing', 'exactly', 'the', 'same']]\n"
          ]
        }
      ],
      "source": [
        "targetXML=open('ted_en-20160408.xml', 'r', encoding='UTF8')\n",
        "\n",
        "# Getting contents of <content> tag from the xml file\n",
        "target_text = etree.parse(targetXML)\n",
        "\n",
        "# Tokenising the sentence to process it by using NLTK library\n",
        "sent_text=[]\n",
        "for parse_text in target_text.xpath('//content/text()'):\n",
        "  # Removing \"Sound-effect labels\" using regular expression (regex) (i.e. (Audio), (Laughter))\n",
        "  content_text = re.sub(r'\\([^)]*\\)', '', parse_text)\n",
        "  sent_text.extend(sent_tokenize(content_text))\n",
        "\n",
        "# Removing punctuation and changing all characters to lower case\n",
        "normalized_text = []\n",
        "for string in sent_text:\n",
        "     tokens = re.sub(r\"[^a-z0-9]+\", \" \", string.lower())\n",
        "     normalized_text.append(tokens)\n",
        "\n",
        "# Tokenising each sentence to process individual word\n",
        "sentences=[]\n",
        "sentences=[word_tokenize(sentence) for sentence in normalized_text]\n",
        "\n",
        "# Prints only 10 (tokenised) sentences\n",
        "print(sentences[:10])"
      ]
    },
    {
      "cell_type": "markdown",
      "metadata": {
        "id": "CojV1MbhkQxK"
      },
      "source": [
        "### Word2Vec - Continuous Bag-Of-Words (CBOW)"
      ]
    },
    {
      "cell_type": "markdown",
      "metadata": {
        "id": "vLq1VIZ7TDog"
      },
      "source": [
        "For more details about gensim.models.word2vec you can refer to [API for Gensim Word2Vec](https://radimrehurek.com/gensim/models/word2vec.html)"
      ]
    },
    {
      "cell_type": "code",
      "execution_count": 20,
      "metadata": {
        "id": "zW1iEee3lZC9"
      },
      "outputs": [],
      "source": [
        "# Initialize and train a word2vec model with the following parameters:\n",
        "# sentence: iterable of iterables, i.e. the list of lists of tokens from our data\n",
        "# size: dimensionality of the word vectors\n",
        "# window: window size\n",
        "# min_count: ignores all words with total frequency lower than the specified count value\n",
        "# workers: Use specified number of worker threads to train the model (=faster training with multicore machines)\n",
        "# sg: training algorithm, 0 for CBOW, 1 for skip-gram\n",
        "wv_cbow_model = Word2Vec(sentences=sentences, vector_size=100, window=5, min_count=5, workers=2, sg=0)"
      ]
    },
    {
      "cell_type": "code",
      "execution_count": 21,
      "metadata": {
        "colab": {
          "base_uri": "https://localhost:8080/"
        },
        "id": "2FKp3X7pkRm6",
        "outputId": "cc012c13-53f5-4815-8a66-0a115302da6d"
      },
      "outputs": [
        {
          "name": "stdout",
          "output_type": "stream",
          "text": [
            "[('woman', 0.8506597280502319),\n",
            " ('guy', 0.7903885245323181),\n",
            " ('lady', 0.7752310037612915),\n",
            " ('boy', 0.7488599419593811),\n",
            " ('girl', 0.7296779751777649),\n",
            " ('gentleman', 0.7079741358757019),\n",
            " ('kid', 0.6909587979316711),\n",
            " ('soldier', 0.6871450543403625),\n",
            " ('friend', 0.6472997665405273),\n",
            " ('rabbi', 0.6451117992401123)]\n"
          ]
        }
      ],
      "source": [
        "# The trained word vectors are stored in a KeyedVectors instance as model.wv\n",
        "# Get the top 10 similar words to 'man' by calling most_similar() \n",
        "# most_similar() computes cosine similarity between a simple mean of the vectors of the given words and the vectors for each word in the model \n",
        "\n",
        "similar_words= wv_cbow_model.wv.most_similar(\"man\") # topn=10 by default\n",
        "pprint.pprint(similar_words)"
      ]
    },
    {
      "cell_type": "code",
      "execution_count": 22,
      "metadata": {
        "colab": {
          "base_uri": "https://localhost:8080/"
        },
        "id": "q9201pniCRJ5",
        "outputId": "fe6f0ed0-cf85-4b13-ebc9-5d2f02d1885d"
      },
      "outputs": [
        {
          "name": "stdout",
          "output_type": "stream",
          "text": [
            "(100,)\n"
          ]
        },
        {
          "data": {
            "text/plain": [
              "array([-0.13695711, -1.3149865 ,  0.08987592,  0.22788209,  3.134402  ,\n",
              "       -0.30846772,  0.9698915 ,  2.1790395 , -0.1022557 , -1.0988563 ,\n",
              "       -1.1662813 , -0.86504656, -0.7577271 ,  0.3245579 , -0.81951225,\n",
              "        0.25481024, -0.6662821 ,  0.47917202,  0.78554523, -1.2026412 ,\n",
              "        0.66526437,  0.48118982, -1.2487334 , -0.25209168,  1.3432146 ,\n",
              "        0.05842949, -1.5113895 , -0.78319424, -0.28348234, -0.73857814,\n",
              "       -0.7258928 ,  0.31590825,  1.6771674 ,  0.5993542 , -1.0189095 ,\n",
              "       -1.3276877 , -1.7007672 , -0.61635   , -1.432281  ,  0.02018946,\n",
              "        0.01746787, -1.3081853 , -0.19570719,  1.9852539 ,  1.0652789 ,\n",
              "        0.00970675, -1.3979338 , -2.1530788 ,  0.25466827, -0.4483228 ,\n",
              "       -0.76949775, -1.4956938 ,  0.3689569 ,  0.66859275, -0.09627616,\n",
              "       -0.39352664, -0.4699094 , -0.13967586, -1.6872534 , -0.7972054 ,\n",
              "       -0.19841458, -0.7997191 ,  0.23217957,  1.5659386 , -1.8746277 ,\n",
              "        0.6773361 , -1.118464  , -0.17535862,  0.08010127,  1.4126589 ,\n",
              "        1.3727524 , -0.3944433 ,  1.8552914 , -0.32322654, -1.3467032 ,\n",
              "       -1.4504119 , -0.48244163,  0.19761878,  0.03679576,  1.1715684 ,\n",
              "        0.19343454, -0.25134677, -0.6037313 , -0.7361666 , -0.13236837,\n",
              "        0.27458978, -0.75163966,  0.39055547, -0.96181273, -0.1812882 ,\n",
              "       -0.34740457,  0.5475663 ,  0.6953301 ,  0.37196416,  2.5462651 ,\n",
              "        0.05076083,  0.35539117,  0.12608425, -3.4321704 ,  2.4589899 ],\n",
              "      dtype=float32)"
            ]
          },
          "execution_count": 22,
          "metadata": {},
          "output_type": "execute_result"
        }
      ],
      "source": [
        "# Get the actual values of the word embedding\n",
        "print(wv_cbow_model.wv['man'].shape)\n",
        "wv_cbow_model.wv['man']"
      ]
    },
    {
      "cell_type": "markdown",
      "metadata": {
        "id": "dsFHg0znlPSf"
      },
      "source": [
        "### Word2Vec - Skip Gram"
      ]
    },
    {
      "cell_type": "code",
      "execution_count": 23,
      "metadata": {
        "id": "k16AowhCWUXu"
      },
      "outputs": [],
      "source": [
        "# Now we switch to a Skip Gram model by setting parameter sg=1\n",
        "wv_sg_model = Word2Vec(sentences=sentences, vector_size=100, window=5, min_count=5, workers=2, sg=1)"
      ]
    },
    {
      "cell_type": "code",
      "execution_count": 24,
      "metadata": {
        "colab": {
          "base_uri": "https://localhost:8080/"
        },
        "id": "e8UiVfr2cBtA",
        "outputId": "7c1758ef-c22c-4357-e69b-9d8bd2174aed"
      },
      "outputs": [
        {
          "name": "stdout",
          "output_type": "stream",
          "text": [
            "[('woman', 0.7700231671333313),\n",
            " ('guy', 0.745594322681427),\n",
            " ('boy', 0.6967232823371887),\n",
            " ('soldier', 0.6953478455543518),\n",
            " ('girl', 0.6928334832191467),\n",
            " ('gentleman', 0.6878626346588135),\n",
            " ('rabbi', 0.6825876235961914),\n",
            " ('imam', 0.6592642068862915),\n",
            " ('lady', 0.6521878838539124),\n",
            " ('pianist', 0.6515915989875793)]\n"
          ]
        }
      ],
      "source": [
        "similar_words = wv_sg_model.wv.most_similar(\"man\")\n",
        "pprint.pprint(similar_words)"
      ]
    },
    {
      "cell_type": "code",
      "execution_count": 25,
      "metadata": {
        "colab": {
          "base_uri": "https://localhost:8080/"
        },
        "id": "Q7hpsEniCWNP",
        "outputId": "63bffe6e-94b3-4341-d197-2d4df82d34a8"
      },
      "outputs": [
        {
          "name": "stdout",
          "output_type": "stream",
          "text": [
            "(100,)\n"
          ]
        },
        {
          "data": {
            "text/plain": [
              "array([-4.14466225e-02, -1.06027037e-01, -7.34621733e-02, -3.57085288e-01,\n",
              "        1.04152910e-01, -1.44116938e-01, -5.99344436e-04, -1.25088051e-01,\n",
              "       -1.28101856e-01, -1.31016653e-02, -3.76162268e-02, -3.93006146e-01,\n",
              "        1.58366319e-02,  2.89401352e-01, -7.21854940e-02,  1.90315232e-01,\n",
              "        6.13293648e-02, -2.29441747e-01,  4.72649671e-02, -5.10491669e-01,\n",
              "        3.90656263e-01, -4.68709581e-02,  1.77674592e-01, -1.24400377e-01,\n",
              "        5.22864647e-02, -4.94046420e-01, -7.77902901e-02, -3.54908794e-01,\n",
              "       -1.47944123e-01, -1.13382690e-01, -3.23875435e-02, -5.48112653e-02,\n",
              "        2.07908943e-01, -5.83865583e-01,  1.96047917e-01,  1.30996168e-01,\n",
              "       -6.19612336e-01, -2.58951336e-02, -1.93464145e-01, -1.02234468e-01,\n",
              "        2.12947920e-01, -6.73308969e-01, -3.75253856e-01,  1.22808792e-01,\n",
              "        1.29347108e-02, -9.04505607e-03, -3.96981150e-01, -2.49998003e-01,\n",
              "        2.28499144e-01,  2.14754164e-01, -2.58274138e-01, -3.59763116e-01,\n",
              "        4.84328121e-02,  2.44811818e-01, -3.85080844e-01, -2.90254682e-01,\n",
              "       -3.17572564e-01, -3.76504123e-01, -7.10347295e-01, -3.66629750e-01,\n",
              "        1.22678846e-01,  2.39530638e-01,  3.79345417e-01,  1.30081221e-01,\n",
              "       -3.73086244e-01,  1.66888997e-01, -5.68187423e-02, -1.35729387e-01,\n",
              "       -3.30409110e-01,  5.91661632e-02,  8.35925862e-02,  3.87678593e-02,\n",
              "        3.60131502e-01,  7.75785148e-02,  1.62917852e-01,  8.85341689e-02,\n",
              "       -1.61229268e-01,  6.68236092e-02, -5.09200394e-01,  4.03190553e-01,\n",
              "       -4.55243699e-02,  1.26083702e-01, -4.69711989e-01,  2.09290937e-01,\n",
              "       -6.71891272e-01,  4.27788123e-02,  3.77142370e-01,  4.64324564e-01,\n",
              "        1.88876763e-01, -1.46466389e-01,  1.82245582e-01,  2.31777877e-01,\n",
              "        1.46422043e-01,  3.79480213e-01,  5.37332594e-01,  2.41667666e-02,\n",
              "        3.52940112e-01,  8.51826295e-02, -6.75427377e-01,  9.06039849e-02],\n",
              "      dtype=float32)"
            ]
          },
          "execution_count": 25,
          "metadata": {},
          "output_type": "execute_result"
        }
      ],
      "source": [
        "# Get the actual values of the word embedding\n",
        "print(wv_sg_model.wv['man'].shape)\n",
        "wv_sg_model.wv['man']"
      ]
    },
    {
      "cell_type": "markdown",
      "metadata": {
        "id": "NfF7YqvpppbG"
      },
      "source": [
        "## Word2Vec vs FastText"
      ]
    },
    {
      "cell_type": "markdown",
      "metadata": {
        "id": "d8IV7D6VAEcr"
      },
      "source": [
        "Word2Vec - Skip Gram cannot find similar words to \"electrofishing\" as \"electrofishing\" is not in the vocabulary."
      ]
    },
    {
      "cell_type": "code",
      "execution_count": 26,
      "metadata": {
        "colab": {
          "base_uri": "https://localhost:8080/",
          "height": 329
        },
        "id": "oS9c2uWWquWG",
        "outputId": "90a55780-65f5-484a-bd89-fc879309eb9b"
      },
      "outputs": [
        {
          "ename": "KeyError",
          "evalue": "\"Key 'electrofishing' not present in vocabulary\"",
          "output_type": "error",
          "traceback": [
            "\u001b[0;31m---------------------------------------------------------------------------\u001b[0m",
            "\u001b[0;31mKeyError\u001b[0m                                  Traceback (most recent call last)",
            "Cell \u001b[0;32mIn[26], line 1\u001b[0m\n\u001b[0;32m----> 1\u001b[0m similar_words\u001b[39m=\u001b[39mwv_sg_model\u001b[39m.\u001b[39;49mwv\u001b[39m.\u001b[39;49mmost_similar(\u001b[39m\"\u001b[39;49m\u001b[39melectrofishing\u001b[39;49m\u001b[39m\"\u001b[39;49m)\n\u001b[1;32m      2\u001b[0m pprint\u001b[39m.\u001b[39mpprint(similar_words)\n",
            "File \u001b[0;32m~/.pyenv/versions/miniforge3-22.9.0-3/envs/nlp/lib/python3.10/site-packages/gensim/models/keyedvectors.py:841\u001b[0m, in \u001b[0;36mKeyedVectors.most_similar\u001b[0;34m(self, positive, negative, topn, clip_start, clip_end, restrict_vocab, indexer)\u001b[0m\n\u001b[1;32m    838\u001b[0m         weight[idx] \u001b[39m=\u001b[39m item[\u001b[39m1\u001b[39m]\n\u001b[1;32m    840\u001b[0m \u001b[39m# compute the weighted average of all keys\u001b[39;00m\n\u001b[0;32m--> 841\u001b[0m mean \u001b[39m=\u001b[39m \u001b[39mself\u001b[39;49m\u001b[39m.\u001b[39;49mget_mean_vector(keys, weight, pre_normalize\u001b[39m=\u001b[39;49m\u001b[39mTrue\u001b[39;49;00m, post_normalize\u001b[39m=\u001b[39;49m\u001b[39mTrue\u001b[39;49;00m, ignore_missing\u001b[39m=\u001b[39;49m\u001b[39mFalse\u001b[39;49;00m)\n\u001b[1;32m    842\u001b[0m all_keys \u001b[39m=\u001b[39m [\n\u001b[1;32m    843\u001b[0m     \u001b[39mself\u001b[39m\u001b[39m.\u001b[39mget_index(key) \u001b[39mfor\u001b[39;00m key \u001b[39min\u001b[39;00m keys \u001b[39mif\u001b[39;00m \u001b[39misinstance\u001b[39m(key, _KEY_TYPES) \u001b[39mand\u001b[39;00m \u001b[39mself\u001b[39m\u001b[39m.\u001b[39mhas_index_for(key)\n\u001b[1;32m    844\u001b[0m ]\n\u001b[1;32m    846\u001b[0m \u001b[39mif\u001b[39;00m indexer \u001b[39mis\u001b[39;00m \u001b[39mnot\u001b[39;00m \u001b[39mNone\u001b[39;00m \u001b[39mand\u001b[39;00m \u001b[39misinstance\u001b[39m(topn, \u001b[39mint\u001b[39m):\n",
            "File \u001b[0;32m~/.pyenv/versions/miniforge3-22.9.0-3/envs/nlp/lib/python3.10/site-packages/gensim/models/keyedvectors.py:518\u001b[0m, in \u001b[0;36mKeyedVectors.get_mean_vector\u001b[0;34m(self, keys, weights, pre_normalize, post_normalize, ignore_missing)\u001b[0m\n\u001b[1;32m    516\u001b[0m         total_weight \u001b[39m+\u001b[39m\u001b[39m=\u001b[39m \u001b[39mabs\u001b[39m(weights[idx])\n\u001b[1;32m    517\u001b[0m     \u001b[39melif\u001b[39;00m \u001b[39mnot\u001b[39;00m ignore_missing:\n\u001b[0;32m--> 518\u001b[0m         \u001b[39mraise\u001b[39;00m \u001b[39mKeyError\u001b[39;00m(\u001b[39mf\u001b[39m\u001b[39m\"\u001b[39m\u001b[39mKey \u001b[39m\u001b[39m'\u001b[39m\u001b[39m{\u001b[39;00mkey\u001b[39m}\u001b[39;00m\u001b[39m'\u001b[39m\u001b[39m not present in vocabulary\u001b[39m\u001b[39m\"\u001b[39m)\n\u001b[1;32m    520\u001b[0m \u001b[39mif\u001b[39;00m total_weight \u001b[39m>\u001b[39m \u001b[39m0\u001b[39m:\n\u001b[1;32m    521\u001b[0m     mean \u001b[39m=\u001b[39m mean \u001b[39m/\u001b[39m total_weight\n",
            "\u001b[0;31mKeyError\u001b[0m: \"Key 'electrofishing' not present in vocabulary\""
          ]
        }
      ],
      "source": [
        "similar_words=wv_sg_model.wv.most_similar(\"electrofishing\")\n",
        "pprint.pprint(similar_words)"
      ]
    },
    {
      "cell_type": "markdown",
      "metadata": {
        "id": "5TpkScI8sA9G"
      },
      "source": [
        "### FastText - Skip Gram"
      ]
    },
    {
      "cell_type": "code",
      "execution_count": 27,
      "metadata": {
        "id": "YAqOR1Vqps6M"
      },
      "outputs": [],
      "source": [
        "from gensim.models import FastText"
      ]
    },
    {
      "cell_type": "code",
      "execution_count": 28,
      "metadata": {
        "id": "kqkvyiUw_DRh"
      },
      "outputs": [],
      "source": [
        "# Now we initialize and train FastText with Skip Gram architecture (sg=1)\n",
        "ft_sg_model = FastText(sentences, vector_size=100, window=5, min_count=5, workers=2, sg=1)"
      ]
    },
    {
      "cell_type": "code",
      "execution_count": 29,
      "metadata": {
        "colab": {
          "base_uri": "https://localhost:8080/"
        },
        "id": "kv26QObJriB7",
        "outputId": "8e67e81a-671b-4870-90ff-92891700ff03"
      },
      "outputs": [
        {
          "name": "stdout",
          "output_type": "stream",
          "text": [
            "[('electrolyte', 0.872059166431427),\n",
            " ('electrolux', 0.869927704334259),\n",
            " ('electroshock', 0.8523299098014832),\n",
            " ('electro', 0.8523170948028564),\n",
            " ('electrochemical', 0.8380071520805359),\n",
            " ('airbus', 0.8301755785942078),\n",
            " ('electroencephalogram', 0.8267729878425598),\n",
            " ('airbag', 0.8260818123817444),\n",
            " ('electrons', 0.820164680480957),\n",
            " ('electric', 0.818602442741394)]\n"
          ]
        }
      ],
      "source": [
        "# As we can see, FastText allows us to obtain word vectors for out-of-vocabulary words\n",
        "result = ft_sg_model.wv.most_similar(\"electrofishing\")\n",
        "pprint.pprint(result)"
      ]
    },
    {
      "cell_type": "code",
      "execution_count": 30,
      "metadata": {
        "colab": {
          "base_uri": "https://localhost:8080/"
        },
        "id": "t2Qjz_MYCjfX",
        "outputId": "8a7bd27a-3c05-4e03-9987-b11f0e558c17"
      },
      "outputs": [
        {
          "name": "stdout",
          "output_type": "stream",
          "text": [
            "(100,)\n"
          ]
        },
        {
          "data": {
            "text/plain": [
              "array([ 3.10876638e-01, -3.61467749e-01, -6.04382600e-04, -2.15903133e-01,\n",
              "        4.33442116e-01,  2.84935057e-01,  4.87836331e-01,  2.17831824e-02,\n",
              "        1.11320972e-01,  2.47364953e-01, -5.11101246e-01, -1.22157536e-01,\n",
              "       -8.21594670e-02,  7.81490147e-01, -1.27965838e-01,  2.61506200e-01,\n",
              "        4.00619507e-01,  1.87705785e-01, -1.02809884e-01,  4.60438542e-02,\n",
              "       -4.29122180e-01, -2.53293812e-01, -1.61239952e-01,  5.37116110e-01,\n",
              "       -1.47220507e-01,  1.01124406e-01, -4.58315521e-01, -1.86567307e-01,\n",
              "       -4.59661661e-03, -6.11231588e-02, -4.78528351e-01,  4.28872034e-02,\n",
              "       -1.91007376e-01, -3.20486762e-02,  2.59253204e-01,  2.82643009e-02,\n",
              "        6.40992150e-02, -3.06822449e-01,  8.06150585e-02,  3.22211921e-01,\n",
              "        6.27873838e-01, -4.29866523e-01, -9.64468569e-02, -2.04584882e-01,\n",
              "        8.22945237e-02,  1.03122726e-01,  1.18878735e-02, -5.57002366e-01,\n",
              "       -2.43119553e-01,  1.77572414e-01,  1.43072814e-01, -1.77999903e-02,\n",
              "        4.02970850e-01, -2.73444742e-01,  1.16152540e-01, -1.68977991e-01,\n",
              "        1.46064833e-01, -6.15390420e-01,  5.81402443e-02, -3.65514425e-03,\n",
              "       -3.81198406e-01, -7.04221576e-02,  3.32527786e-01, -9.51523632e-02,\n",
              "       -5.09190083e-01, -1.09828793e-01,  1.15314417e-01, -1.92491814e-01,\n",
              "       -1.97733834e-01, -2.63148129e-01, -4.09232199e-01,  4.30764347e-01,\n",
              "       -1.40589789e-01, -5.40592372e-02, -1.52949601e-01, -3.65308583e-01,\n",
              "        3.59737545e-01,  7.18974099e-02, -4.01330292e-01,  5.02825856e-01,\n",
              "       -9.93383378e-02, -2.55636126e-01,  1.46631956e-01,  3.40688288e-01,\n",
              "       -3.97992939e-01,  1.09647170e-01,  5.05770504e-01, -3.64721954e-01,\n",
              "       -1.68728814e-01, -1.24240927e-01, -2.40626216e-01,  1.78636298e-01,\n",
              "       -7.43282288e-02,  3.79202455e-01,  8.89713690e-02,  2.43691877e-01,\n",
              "       -2.28699803e-01,  1.99834965e-02, -3.86576742e-01,  1.98425531e-01],\n",
              "      dtype=float32)"
            ]
          },
          "execution_count": 30,
          "metadata": {},
          "output_type": "execute_result"
        }
      ],
      "source": [
        "# Get the actual values of the word embedding\n",
        "print(ft_sg_model.wv['man'].shape)\n",
        "ft_sg_model.wv['man']"
      ]
    },
    {
      "cell_type": "markdown",
      "metadata": {
        "id": "X0x2aQpfsFSx"
      },
      "source": [
        "### FastText - Continuous Bag-Of-Words (CBOW)"
      ]
    },
    {
      "cell_type": "code",
      "execution_count": 31,
      "metadata": {
        "id": "BUBqvqpc2sbL"
      },
      "outputs": [],
      "source": [
        "# Now we initialize and train FastText with CBOW architecture (sg=0)\n",
        "ft_cbow_model = FastText(sentences, vector_size=100, window=5, min_count=5, workers=2, sg=0)"
      ]
    },
    {
      "cell_type": "code",
      "execution_count": 32,
      "metadata": {
        "colab": {
          "base_uri": "https://localhost:8080/"
        },
        "id": "kUj1RUzM2nLA",
        "outputId": "71b4bf8f-4179-46d8-84cb-01a8537bda73"
      },
      "outputs": [
        {
          "name": "stdout",
          "output_type": "stream",
          "text": [
            "[('fishing', 0.9224485754966736),\n",
            " ('flourishing', 0.9116445779800415),\n",
            " ('licensing', 0.9101725816726685),\n",
            " ('flushing', 0.9089723229408264),\n",
            " ('vanishing', 0.9065611362457275),\n",
            " ('transplanting', 0.9051036834716797),\n",
            " ('refreshing', 0.9041182994842529),\n",
            " ('flashing', 0.9037336707115173),\n",
            " ('operating', 0.9036064147949219),\n",
            " ('planting', 0.9034087061882019)]\n"
          ]
        }
      ],
      "source": [
        "# Again, FastText allows us to obtain word vectors for out-of-vocabulary words\n",
        "result = ft_cbow_model.wv.most_similar(\"electrofishing\")\n",
        "pprint.pprint(result)"
      ]
    },
    {
      "cell_type": "code",
      "execution_count": 33,
      "metadata": {
        "colab": {
          "base_uri": "https://localhost:8080/"
        },
        "id": "AmrYQASiCqR1",
        "outputId": "a0e545da-01b4-481e-f38c-12f018fb067c"
      },
      "outputs": [
        {
          "name": "stdout",
          "output_type": "stream",
          "text": [
            "(100,)\n"
          ]
        },
        {
          "data": {
            "text/plain": [
              "array([ 2.0027092 ,  0.30143437, -1.0465788 , -0.94396544,  1.605212  ,\n",
              "        0.47771892,  0.72974527, -0.922418  ,  1.4959586 ,  0.9711816 ,\n",
              "       -2.2917373 ,  0.4821043 , -2.6194577 ,  3.8829477 , -0.35736826,\n",
              "        1.0367727 ,  1.005737  ,  0.6500988 ,  0.56991833, -1.3060998 ,\n",
              "       -1.4887199 , -4.386161  , -0.69828784, -3.524025  , -2.365574  ,\n",
              "        2.453487  , -1.8643637 , -0.5652358 , -1.017441  , -0.4893853 ,\n",
              "        0.38724217, -0.06270579,  2.5939338 ,  4.069805  ,  2.1318529 ,\n",
              "       -1.391218  ,  1.5644411 , -3.3709521 , -0.52328074,  2.4800222 ,\n",
              "       -0.76009095, -5.033131  , -1.9492133 , -0.8926425 ,  1.4429516 ,\n",
              "       -3.079221  ,  0.64149755, -1.3618907 , -1.8043194 ,  0.82223314,\n",
              "       -0.40497836, -2.4858975 , -3.3817935 ,  2.5364387 ,  1.8520304 ,\n",
              "        2.1912863 , -1.027288  ,  1.1697712 , -1.6596861 , -0.21679033,\n",
              "        2.6423542 , -1.0514925 ,  4.70194   , -0.33658108,  0.889101  ,\n",
              "       -1.223643  , -0.16685784, -2.2062194 ,  2.2499309 ,  0.47606495,\n",
              "       -4.149838  , -0.28806528, -3.3069842 ,  0.06883948, -1.8566366 ,\n",
              "        1.1857913 ,  1.0358592 ,  1.5819585 , -0.7029691 ,  2.5259159 ,\n",
              "       -0.26124185, -0.6735288 ,  0.5655092 ,  0.22255073, -0.51443666,\n",
              "        0.9454587 , -2.7824445 , -0.7613125 , -1.303481  ,  1.5442693 ,\n",
              "       -0.28647313, -0.14411259,  2.6854122 , -0.9138166 , -0.63551587,\n",
              "        0.38858637,  2.235164  ,  1.0161108 , -1.2152174 ,  1.5853672 ],\n",
              "      dtype=float32)"
            ]
          },
          "execution_count": 33,
          "metadata": {},
          "output_type": "execute_result"
        }
      ],
      "source": [
        "# Get the actual values of the word embedding\n",
        "print(ft_cbow_model.wv['man'].shape)\n",
        "ft_cbow_model.wv['man']"
      ]
    },
    {
      "cell_type": "markdown",
      "metadata": {
        "id": "6hjmOhmRi7Ov"
      },
      "source": [
        "## King - Man + Woman = ?"
      ]
    },
    {
      "cell_type": "markdown",
      "metadata": {
        "id": "Xw7b9OSwjGm0"
      },
      "source": [
        "Try both CBOW and Skip Gram model to calculate \"King - Man + Woman = ?\""
      ]
    },
    {
      "cell_type": "code",
      "execution_count": 34,
      "metadata": {
        "colab": {
          "base_uri": "https://localhost:8080/"
        },
        "id": "ovTXjSdgrw36",
        "outputId": "9580fab8-6b37-4ab8-f6e8-67ee75d733f7"
      },
      "outputs": [
        {
          "name": "stdout",
          "output_type": "stream",
          "text": [
            "[('french', 0.7609730362892151)]\n"
          ]
        }
      ],
      "source": [
        "# We can specify the positive/negative word list with the positive/negative parameters to create a word expression\n",
        "# Top N most similar words can be specified with the topn parameter\n",
        "result = wv_cbow_model.wv.most_similar(positive=['woman', 'king'], negative=['man'], topn=1)\n",
        "print(result)"
      ]
    },
    {
      "cell_type": "code",
      "execution_count": 35,
      "metadata": {
        "colab": {
          "base_uri": "https://localhost:8080/"
        },
        "id": "gUtbE2jwq1to",
        "outputId": "88044fbe-e706-443e-834e-41781e95f9a5"
      },
      "outputs": [
        {
          "name": "stdout",
          "output_type": "stream",
          "text": [
            "[('luther', 0.6663420796394348)]\n"
          ]
        }
      ],
      "source": [
        "result = wv_sg_model.wv.most_similar(positive=['woman', 'king'], negative=['man'], topn=1)\n",
        "print(result)\n"
      ]
    },
    {
      "cell_type": "code",
      "execution_count": 36,
      "metadata": {
        "colab": {
          "base_uri": "https://localhost:8080/"
        },
        "id": "3PWf2I4_WZpG",
        "outputId": "abd953e5-2cc7-48b6-a46c-33f0d987faf3"
      },
      "outputs": [
        {
          "name": "stdout",
          "output_type": "stream",
          "text": [
            "[('kidding', 0.8769797682762146)]\n"
          ]
        }
      ],
      "source": [
        "result = ft_cbow_model.wv.most_similar(positive=['woman', 'king'], negative=['man'], topn=1)\n",
        "print(result)\n"
      ]
    },
    {
      "cell_type": "code",
      "execution_count": 37,
      "metadata": {
        "colab": {
          "base_uri": "https://localhost:8080/"
        },
        "id": "j9x51rRhWZrx",
        "outputId": "494139af-f0b0-4657-c5c2-b7ce2ad036b2"
      },
      "outputs": [
        {
          "name": "stdout",
          "output_type": "stream",
          "text": [
            "[('dancing', 0.6725595593452454)]\n"
          ]
        }
      ],
      "source": [
        "result = ft_sg_model.wv.most_similar(positive=['woman', 'king'], negative=['man'], topn=1)\n",
        "print(result)\n"
      ]
    },
    {
      "cell_type": "markdown",
      "metadata": {
        "id": "KpAd8t-wjTMA"
      },
      "source": [
        "This is not what we expected...Probably not enough data to answer as \"queen\"\n",
        "\n",
        "Let's try with a larger sized training data (Google has already trained Word2Vec with Google News data) in the following section\n"
      ]
    },
    {
      "cell_type": "markdown",
      "metadata": {
        "id": "GMY5w8F7rElp"
      },
      "source": [
        "## Using Pretrained word embeddings with Gensim\n",
        "\n"
      ]
    },
    {
      "cell_type": "markdown",
      "metadata": {
        "id": "keivkY13L4Nz"
      },
      "source": [
        "### 1.Download and load from Google pretrained Word2Vec binary file\n",
        "[Link to Project](https://code.google.com/archive/p/word2vec/)"
      ]
    },
    {
      "cell_type": "code",
      "execution_count": 12,
      "metadata": {
        "id": "teQvZDSirVVC"
      },
      "outputs": [],
      "source": [
        "# Download the pre-trained vectors trained on part of Google News dataset (about 100 billion words)\n",
        "# Beware, this file is big (3.39GB) - might be long waiting! \n",
        "id2 = '0B7XkCwpI5KDYNlNUTTlSS21pQmM'\n",
        "downloaded = drive.CreateFile({'id':id2}) \n",
        "downloaded.GetContentFile('GoogleNews-vectors-negative300.bin.gz')  "
      ]
    },
    {
      "cell_type": "code",
      "execution_count": 15,
      "metadata": {
        "id": "iTrXl4FRMitm"
      },
      "outputs": [],
      "source": [
        "# Uncompress the downloaded file\n",
        "!gzip -d ./GoogleNews-vectors-negative300.bin.gz"
      ]
    },
    {
      "cell_type": "code",
      "execution_count": 38,
      "metadata": {
        "id": "64e_sRJ1rhUa"
      },
      "outputs": [],
      "source": [
        "from gensim.models import KeyedVectors\n",
        "import warnings\n",
        "warnings.simplefilter(action='ignore', category=FutureWarning)\n",
        "\n",
        "# Load the pretrained vectors with KeyedVectors instance\n",
        "# Note that we set the limit=100000 here, which means we set a maximum number of word-vectors to read from the file, to avoid out of memory issue and load vectors faster. \n",
        "\n",
        "filename = 'GoogleNews-vectors-negative300.bin'\n",
        "gn_wv_model = KeyedVectors.load_word2vec_format('GoogleNews-vectors-negative300.bin', binary=True, limit=100000)"
      ]
    },
    {
      "cell_type": "code",
      "execution_count": 39,
      "metadata": {
        "colab": {
          "base_uri": "https://localhost:8080/"
        },
        "id": "PvMQp2-Tr3zl",
        "outputId": "74fe33e5-de61-4174-b765-7faa137fd012"
      },
      "outputs": [
        {
          "name": "stdout",
          "output_type": "stream",
          "text": [
            "[('queen', 0.7118192911148071)]\n"
          ]
        }
      ],
      "source": [
        "# Now we can try to calculate \"King - Man + Woman = ?\" again\n",
        "result = gn_wv_model.most_similar(positive=['woman', 'king'], negative=['man'], topn=1)\n",
        "print(result)"
      ]
    },
    {
      "cell_type": "code",
      "execution_count": 40,
      "metadata": {
        "colab": {
          "base_uri": "https://localhost:8080/"
        },
        "id": "O9N64tY4RNlw",
        "outputId": "b9b7499a-daea-4d4d-c5ab-2eaa8daa1487"
      },
      "outputs": [
        {
          "name": "stdout",
          "output_type": "stream",
          "text": [
            "(300,)\n",
            "(300,)\n"
          ]
        },
        {
          "data": {
            "text/plain": [
              "array([[0.53326625]], dtype=float32)"
            ]
          },
          "execution_count": 40,
          "metadata": {},
          "output_type": "execute_result"
        }
      ],
      "source": [
        "# Let's also try to extract the word embeddings and check their shape\n",
        "wv_banana = gn_wv_model[\"banana\"] \n",
        "wv_avocado = gn_wv_model[\"avocado\"]\n",
        "print(wv_banana.shape)\n",
        "print(wv_avocado.shape)\n",
        "\n",
        "# We can also calculate the cosine similarity ourselves with the extracted words\n",
        "from sklearn.metrics.pairwise import cosine_similarity\n",
        "cosine_similarity([wv_banana],[wv_avocado])"
      ]
    },
    {
      "cell_type": "code",
      "execution_count": 42,
      "metadata": {
        "colab": {
          "base_uri": "https://localhost:8080/"
        },
        "id": "Xfo_7ziqJ0pP",
        "outputId": "a0e545da-01b4-481e-f38c-12f018fb067c"
      },
      "outputs": [
        {
          "name": "stdout",
          "output_type": "stream",
          "text": [
            "(100,)\n"
          ]
        },
        {
          "data": {
            "text/plain": [
              "array([ 2.0027092 ,  0.30143437, -1.0465788 , -0.94396544,  1.605212  ,\n",
              "        0.47771892,  0.72974527, -0.922418  ,  1.4959586 ,  0.9711816 ,\n",
              "       -2.2917373 ,  0.4821043 , -2.6194577 ,  3.8829477 , -0.35736826,\n",
              "        1.0367727 ,  1.005737  ,  0.6500988 ,  0.56991833, -1.3060998 ,\n",
              "       -1.4887199 , -4.386161  , -0.69828784, -3.524025  , -2.365574  ,\n",
              "        2.453487  , -1.8643637 , -0.5652358 , -1.017441  , -0.4893853 ,\n",
              "        0.38724217, -0.06270579,  2.5939338 ,  4.069805  ,  2.1318529 ,\n",
              "       -1.391218  ,  1.5644411 , -3.3709521 , -0.52328074,  2.4800222 ,\n",
              "       -0.76009095, -5.033131  , -1.9492133 , -0.8926425 ,  1.4429516 ,\n",
              "       -3.079221  ,  0.64149755, -1.3618907 , -1.8043194 ,  0.82223314,\n",
              "       -0.40497836, -2.4858975 , -3.3817935 ,  2.5364387 ,  1.8520304 ,\n",
              "        2.1912863 , -1.027288  ,  1.1697712 , -1.6596861 , -0.21679033,\n",
              "        2.6423542 , -1.0514925 ,  4.70194   , -0.33658108,  0.889101  ,\n",
              "       -1.223643  , -0.16685784, -2.2062194 ,  2.2499309 ,  0.47606495,\n",
              "       -4.149838  , -0.28806528, -3.3069842 ,  0.06883948, -1.8566366 ,\n",
              "        1.1857913 ,  1.0358592 ,  1.5819585 , -0.7029691 ,  2.5259159 ,\n",
              "       -0.26124185, -0.6735288 ,  0.5655092 ,  0.22255073, -0.51443666,\n",
              "        0.9454587 , -2.7824445 , -0.7613125 , -1.303481  ,  1.5442693 ,\n",
              "       -0.28647313, -0.14411259,  2.6854122 , -0.9138166 , -0.63551587,\n",
              "        0.38858637,  2.235164  ,  1.0161108 , -1.2152174 ,  1.5853672 ],\n",
              "      dtype=float32)"
            ]
          },
          "execution_count": 42,
          "metadata": {},
          "output_type": "execute_result"
        }
      ],
      "source": [
        "# Get the actual values of the word embedding\n",
        "print(ft_cbow_model.wv['man'].shape)\n",
        "ft_cbow_model.wv['man']"
      ]
    },
    {
      "cell_type": "code",
      "execution_count": 48,
      "metadata": {
        "colab": {
          "base_uri": "https://localhost:8080/"
        },
        "id": "hOgbNjggC7_y",
        "outputId": "25b85d8d-b2fe-4ea7-e17d-a6b8dc46c7f4"
      },
      "outputs": [
        {
          "name": "stdout",
          "output_type": "stream",
          "text": [
            "(300,)\n"
          ]
        },
        {
          "data": {
            "text/plain": [
              "array([ 0.32617188,  0.13085938,  0.03466797, -0.08300781,  0.08984375,\n",
              "       -0.04125977, -0.19824219,  0.00689697,  0.14355469,  0.0019455 ,\n",
              "        0.02880859, -0.25      , -0.08398438, -0.15136719, -0.10205078,\n",
              "        0.04077148, -0.09765625,  0.05932617,  0.02978516, -0.10058594,\n",
              "       -0.13085938,  0.001297  ,  0.02612305, -0.27148438,  0.06396484,\n",
              "       -0.19140625, -0.078125  ,  0.25976562,  0.375     , -0.04541016,\n",
              "        0.16210938,  0.13671875, -0.06396484, -0.02062988, -0.09667969,\n",
              "        0.25390625,  0.24804688, -0.12695312,  0.07177734,  0.3203125 ,\n",
              "        0.03149414, -0.03857422,  0.21191406, -0.00811768,  0.22265625,\n",
              "       -0.13476562, -0.07617188,  0.01049805, -0.05175781,  0.03808594,\n",
              "       -0.13378906,  0.125     ,  0.0559082 , -0.18261719,  0.08154297,\n",
              "       -0.08447266, -0.07763672, -0.04345703,  0.08105469, -0.01092529,\n",
              "        0.17480469,  0.30664062, -0.04321289, -0.01416016,  0.09082031,\n",
              "       -0.00927734, -0.03442383, -0.11523438,  0.12451172, -0.0246582 ,\n",
              "        0.08544922,  0.14355469, -0.27734375,  0.03662109, -0.11035156,\n",
              "        0.13085938, -0.01721191, -0.08056641, -0.00708008, -0.02954102,\n",
              "        0.30078125, -0.09033203,  0.03149414, -0.18652344, -0.11181641,\n",
              "        0.10253906, -0.25976562, -0.02209473,  0.16796875, -0.05322266,\n",
              "       -0.14550781, -0.01049805, -0.03039551, -0.03857422,  0.11523438,\n",
              "       -0.0062561 , -0.13964844,  0.08007812,  0.06103516, -0.15332031,\n",
              "       -0.11132812, -0.14160156,  0.19824219, -0.06933594,  0.29296875,\n",
              "       -0.16015625,  0.20898438,  0.00041771,  0.01831055, -0.20214844,\n",
              "        0.04760742,  0.05810547, -0.0123291 , -0.01989746, -0.00364685,\n",
              "       -0.0135498 , -0.08251953, -0.03149414,  0.00717163,  0.20117188,\n",
              "        0.08300781, -0.0480957 , -0.26367188, -0.09667969, -0.22558594,\n",
              "       -0.09667969,  0.06494141, -0.02502441,  0.08496094,  0.03198242,\n",
              "       -0.07568359, -0.25390625, -0.11669922, -0.01446533, -0.16015625,\n",
              "       -0.00701904, -0.05712891,  0.02807617, -0.09179688,  0.25195312,\n",
              "        0.24121094,  0.06640625,  0.12988281,  0.17089844, -0.13671875,\n",
              "        0.1875    , -0.10009766, -0.04199219, -0.12011719,  0.00524902,\n",
              "        0.15625   , -0.203125  , -0.07128906, -0.06103516,  0.01635742,\n",
              "        0.18261719,  0.03588867, -0.04248047,  0.16796875, -0.15039062,\n",
              "       -0.16992188,  0.01831055,  0.27734375, -0.01269531, -0.0390625 ,\n",
              "       -0.15429688,  0.18457031, -0.07910156,  0.09033203, -0.02709961,\n",
              "        0.08251953,  0.06738281, -0.16113281, -0.19628906, -0.15234375,\n",
              "       -0.04711914,  0.04760742,  0.05908203, -0.16894531, -0.14941406,\n",
              "        0.12988281,  0.04321289,  0.02624512, -0.1796875 , -0.19628906,\n",
              "        0.06445312,  0.08935547,  0.1640625 , -0.03808594, -0.09814453,\n",
              "       -0.01483154,  0.1875    ,  0.12792969,  0.22753906,  0.01818848,\n",
              "       -0.07958984, -0.11376953, -0.06933594, -0.15527344, -0.08105469,\n",
              "       -0.09277344, -0.11328125, -0.15136719, -0.08007812, -0.05126953,\n",
              "       -0.15332031,  0.11669922,  0.06835938,  0.0324707 , -0.33984375,\n",
              "       -0.08154297, -0.08349609,  0.04003906,  0.04907227, -0.24121094,\n",
              "       -0.13476562, -0.05932617,  0.12158203, -0.34179688,  0.16503906,\n",
              "        0.06176758, -0.18164062,  0.20117188, -0.07714844,  0.1640625 ,\n",
              "        0.00402832,  0.30273438, -0.10009766, -0.13671875, -0.05957031,\n",
              "        0.0625    , -0.21289062, -0.06542969,  0.1796875 , -0.07763672,\n",
              "       -0.01928711, -0.15039062, -0.00106049,  0.03417969,  0.03344727,\n",
              "        0.19335938,  0.01965332, -0.19921875, -0.10644531,  0.01525879,\n",
              "        0.00927734,  0.01416016, -0.02392578,  0.05883789,  0.02368164,\n",
              "        0.125     ,  0.04760742, -0.05566406,  0.11572266,  0.14746094,\n",
              "        0.1015625 , -0.07128906, -0.07714844, -0.12597656,  0.0291748 ,\n",
              "        0.09521484, -0.12402344, -0.109375  , -0.12890625,  0.16308594,\n",
              "        0.28320312, -0.03149414,  0.12304688, -0.23242188, -0.09375   ,\n",
              "       -0.12988281,  0.0135498 , -0.03881836, -0.08251953,  0.00897217,\n",
              "        0.16308594,  0.10546875, -0.13867188, -0.16503906, -0.03857422,\n",
              "        0.10839844, -0.10498047,  0.06396484,  0.38867188, -0.05981445,\n",
              "       -0.0612793 , -0.10449219, -0.16796875,  0.07177734,  0.13964844,\n",
              "        0.15527344, -0.03125   , -0.20214844, -0.12988281, -0.10058594,\n",
              "       -0.06396484, -0.08349609, -0.30273438, -0.08007812,  0.02099609],\n",
              "      dtype=float32)"
            ]
          },
          "execution_count": 48,
          "metadata": {},
          "output_type": "execute_result"
        }
      ],
      "source": [
        "# Get the actual value of the word embedding\n",
        "# print(gn_wv_model.wv['man'].shape)\n",
        "# gn_wv_model.wv['man']\n",
        "print(gn_wv_model.get_vector(\"man\").shape)\n",
        "gn_wv_model.get_vector(\"man\")"
      ]
    },
    {
      "cell_type": "markdown",
      "metadata": {
        "id": "12Ws7QvPMq9s"
      },
      "source": [
        "### 2.Load a pretrained word embedding model using API\n",
        "The following code illustrates another way of loading pretrained word embeddings with Gensim. Here we try with GloVe embedding trained on Twitter data"
      ]
    },
    {
      "cell_type": "code",
      "execution_count": 13,
      "metadata": {
        "colab": {
          "base_uri": "https://localhost:8080/"
        },
        "id": "cvAP4nyYM_qZ",
        "outputId": "cbf0e070-1873-47ea-c801-5c3dfac5562f"
      },
      "outputs": [
        {
          "name": "stdout",
          "output_type": "stream",
          "text": [
            "[==================================================] 100.0% 104.8/104.8MB downloaded\n",
            "0.9590821\n",
            "0.04091787338256836\n"
          ]
        }
      ],
      "source": [
        "import gensim.downloader as api\n",
        "\n",
        "# download the model and return as object ready for use\n",
        "model = api.load(\"glove-twitter-25\")  \n",
        "# The similarity() function can calculate the cosine similarity between two given words\n",
        "print(model.similarity(\"cat\",\"dog\"))\n",
        "# The distance() function is another way of calculating the similarity between two given words, which returns (1 - cosine similarity) instead\n",
        "print(model.distance(\"cat\",\"dog\"))"
      ]
    },
    {
      "cell_type": "code",
      "execution_count": 49,
      "metadata": {
        "colab": {
          "base_uri": "https://localhost:8080/"
        },
        "id": "ZSTBo-CXJ2iI",
        "outputId": "a0e545da-01b4-481e-f38c-12f018fb067c"
      },
      "outputs": [
        {
          "name": "stdout",
          "output_type": "stream",
          "text": [
            "(100,)\n"
          ]
        },
        {
          "data": {
            "text/plain": [
              "array([ 2.0027092 ,  0.30143437, -1.0465788 , -0.94396544,  1.605212  ,\n",
              "        0.47771892,  0.72974527, -0.922418  ,  1.4959586 ,  0.9711816 ,\n",
              "       -2.2917373 ,  0.4821043 , -2.6194577 ,  3.8829477 , -0.35736826,\n",
              "        1.0367727 ,  1.005737  ,  0.6500988 ,  0.56991833, -1.3060998 ,\n",
              "       -1.4887199 , -4.386161  , -0.69828784, -3.524025  , -2.365574  ,\n",
              "        2.453487  , -1.8643637 , -0.5652358 , -1.017441  , -0.4893853 ,\n",
              "        0.38724217, -0.06270579,  2.5939338 ,  4.069805  ,  2.1318529 ,\n",
              "       -1.391218  ,  1.5644411 , -3.3709521 , -0.52328074,  2.4800222 ,\n",
              "       -0.76009095, -5.033131  , -1.9492133 , -0.8926425 ,  1.4429516 ,\n",
              "       -3.079221  ,  0.64149755, -1.3618907 , -1.8043194 ,  0.82223314,\n",
              "       -0.40497836, -2.4858975 , -3.3817935 ,  2.5364387 ,  1.8520304 ,\n",
              "        2.1912863 , -1.027288  ,  1.1697712 , -1.6596861 , -0.21679033,\n",
              "        2.6423542 , -1.0514925 ,  4.70194   , -0.33658108,  0.889101  ,\n",
              "       -1.223643  , -0.16685784, -2.2062194 ,  2.2499309 ,  0.47606495,\n",
              "       -4.149838  , -0.28806528, -3.3069842 ,  0.06883948, -1.8566366 ,\n",
              "        1.1857913 ,  1.0358592 ,  1.5819585 , -0.7029691 ,  2.5259159 ,\n",
              "       -0.26124185, -0.6735288 ,  0.5655092 ,  0.22255073, -0.51443666,\n",
              "        0.9454587 , -2.7824445 , -0.7613125 , -1.303481  ,  1.5442693 ,\n",
              "       -0.28647313, -0.14411259,  2.6854122 , -0.9138166 , -0.63551587,\n",
              "        0.38858637,  2.235164  ,  1.0161108 , -1.2152174 ,  1.5853672 ],\n",
              "      dtype=float32)"
            ]
          },
          "execution_count": 49,
          "metadata": {},
          "output_type": "execute_result"
        }
      ],
      "source": [
        "# Get the actual values of the word embedding\n",
        "print(ft_cbow_model.wv['man'].shape)\n",
        "ft_cbow_model.wv['man']"
      ]
    },
    {
      "cell_type": "code",
      "execution_count": 51,
      "metadata": {
        "colab": {
          "base_uri": "https://localhost:8080/"
        },
        "id": "F5Xu2HzrJ2iJ",
        "outputId": "25b85d8d-b2fe-4ea7-e17d-a6b8dc46c7f4"
      },
      "outputs": [
        {
          "name": "stdout",
          "output_type": "stream",
          "text": [
            "(300,)\n"
          ]
        },
        {
          "data": {
            "text/plain": [
              "array([ 0.32617188,  0.13085938,  0.03466797, -0.08300781,  0.08984375,\n",
              "       -0.04125977, -0.19824219,  0.00689697,  0.14355469,  0.0019455 ,\n",
              "        0.02880859, -0.25      , -0.08398438, -0.15136719, -0.10205078,\n",
              "        0.04077148, -0.09765625,  0.05932617,  0.02978516, -0.10058594,\n",
              "       -0.13085938,  0.001297  ,  0.02612305, -0.27148438,  0.06396484,\n",
              "       -0.19140625, -0.078125  ,  0.25976562,  0.375     , -0.04541016,\n",
              "        0.16210938,  0.13671875, -0.06396484, -0.02062988, -0.09667969,\n",
              "        0.25390625,  0.24804688, -0.12695312,  0.07177734,  0.3203125 ,\n",
              "        0.03149414, -0.03857422,  0.21191406, -0.00811768,  0.22265625,\n",
              "       -0.13476562, -0.07617188,  0.01049805, -0.05175781,  0.03808594,\n",
              "       -0.13378906,  0.125     ,  0.0559082 , -0.18261719,  0.08154297,\n",
              "       -0.08447266, -0.07763672, -0.04345703,  0.08105469, -0.01092529,\n",
              "        0.17480469,  0.30664062, -0.04321289, -0.01416016,  0.09082031,\n",
              "       -0.00927734, -0.03442383, -0.11523438,  0.12451172, -0.0246582 ,\n",
              "        0.08544922,  0.14355469, -0.27734375,  0.03662109, -0.11035156,\n",
              "        0.13085938, -0.01721191, -0.08056641, -0.00708008, -0.02954102,\n",
              "        0.30078125, -0.09033203,  0.03149414, -0.18652344, -0.11181641,\n",
              "        0.10253906, -0.25976562, -0.02209473,  0.16796875, -0.05322266,\n",
              "       -0.14550781, -0.01049805, -0.03039551, -0.03857422,  0.11523438,\n",
              "       -0.0062561 , -0.13964844,  0.08007812,  0.06103516, -0.15332031,\n",
              "       -0.11132812, -0.14160156,  0.19824219, -0.06933594,  0.29296875,\n",
              "       -0.16015625,  0.20898438,  0.00041771,  0.01831055, -0.20214844,\n",
              "        0.04760742,  0.05810547, -0.0123291 , -0.01989746, -0.00364685,\n",
              "       -0.0135498 , -0.08251953, -0.03149414,  0.00717163,  0.20117188,\n",
              "        0.08300781, -0.0480957 , -0.26367188, -0.09667969, -0.22558594,\n",
              "       -0.09667969,  0.06494141, -0.02502441,  0.08496094,  0.03198242,\n",
              "       -0.07568359, -0.25390625, -0.11669922, -0.01446533, -0.16015625,\n",
              "       -0.00701904, -0.05712891,  0.02807617, -0.09179688,  0.25195312,\n",
              "        0.24121094,  0.06640625,  0.12988281,  0.17089844, -0.13671875,\n",
              "        0.1875    , -0.10009766, -0.04199219, -0.12011719,  0.00524902,\n",
              "        0.15625   , -0.203125  , -0.07128906, -0.06103516,  0.01635742,\n",
              "        0.18261719,  0.03588867, -0.04248047,  0.16796875, -0.15039062,\n",
              "       -0.16992188,  0.01831055,  0.27734375, -0.01269531, -0.0390625 ,\n",
              "       -0.15429688,  0.18457031, -0.07910156,  0.09033203, -0.02709961,\n",
              "        0.08251953,  0.06738281, -0.16113281, -0.19628906, -0.15234375,\n",
              "       -0.04711914,  0.04760742,  0.05908203, -0.16894531, -0.14941406,\n",
              "        0.12988281,  0.04321289,  0.02624512, -0.1796875 , -0.19628906,\n",
              "        0.06445312,  0.08935547,  0.1640625 , -0.03808594, -0.09814453,\n",
              "       -0.01483154,  0.1875    ,  0.12792969,  0.22753906,  0.01818848,\n",
              "       -0.07958984, -0.11376953, -0.06933594, -0.15527344, -0.08105469,\n",
              "       -0.09277344, -0.11328125, -0.15136719, -0.08007812, -0.05126953,\n",
              "       -0.15332031,  0.11669922,  0.06835938,  0.0324707 , -0.33984375,\n",
              "       -0.08154297, -0.08349609,  0.04003906,  0.04907227, -0.24121094,\n",
              "       -0.13476562, -0.05932617,  0.12158203, -0.34179688,  0.16503906,\n",
              "        0.06176758, -0.18164062,  0.20117188, -0.07714844,  0.1640625 ,\n",
              "        0.00402832,  0.30273438, -0.10009766, -0.13671875, -0.05957031,\n",
              "        0.0625    , -0.21289062, -0.06542969,  0.1796875 , -0.07763672,\n",
              "       -0.01928711, -0.15039062, -0.00106049,  0.03417969,  0.03344727,\n",
              "        0.19335938,  0.01965332, -0.19921875, -0.10644531,  0.01525879,\n",
              "        0.00927734,  0.01416016, -0.02392578,  0.05883789,  0.02368164,\n",
              "        0.125     ,  0.04760742, -0.05566406,  0.11572266,  0.14746094,\n",
              "        0.1015625 , -0.07128906, -0.07714844, -0.12597656,  0.0291748 ,\n",
              "        0.09521484, -0.12402344, -0.109375  , -0.12890625,  0.16308594,\n",
              "        0.28320312, -0.03149414,  0.12304688, -0.23242188, -0.09375   ,\n",
              "       -0.12988281,  0.0135498 , -0.03881836, -0.08251953,  0.00897217,\n",
              "        0.16308594,  0.10546875, -0.13867188, -0.16503906, -0.03857422,\n",
              "        0.10839844, -0.10498047,  0.06396484,  0.38867188, -0.05981445,\n",
              "       -0.0612793 , -0.10449219, -0.16796875,  0.07177734,  0.13964844,\n",
              "        0.15527344, -0.03125   , -0.20214844, -0.12988281, -0.10058594,\n",
              "       -0.06396484, -0.08349609, -0.30273438, -0.08007812,  0.02099609],\n",
              "      dtype=float32)"
            ]
          },
          "execution_count": 51,
          "metadata": {},
          "output_type": "execute_result"
        }
      ],
      "source": [
        "# Get the actual value of the word embedding\n",
        "# print(gn_wv_model.wv['man'].shape)\n",
        "# gn_wv_model.wv['man']\n",
        "print(gn_wv_model.get_vector(\"man\").shape)\n",
        "gn_wv_model.get_vector(\"man\")"
      ]
    },
    {
      "cell_type": "code",
      "execution_count": null,
      "metadata": {
        "colab": {
          "base_uri": "https://localhost:8080/"
        },
        "id": "Rn0_uRZfDLcx",
        "outputId": "e36c44ff-9e0f-4d98-a11a-9cebc73340b1"
      },
      "outputs": [
        {
          "name": "stdout",
          "output_type": "stream",
          "text": [
            "(25,)\n"
          ]
        },
        {
          "name": "stderr",
          "output_type": "stream",
          "text": [
            "<ipython-input-35-36f4ce86ae02>:2: DeprecationWarning: Call to deprecated `wv` (Attribute will be removed in 4.0.0, use self instead).\n",
            "  print(model.wv['man'].shape)\n",
            "<ipython-input-35-36f4ce86ae02>:3: DeprecationWarning: Call to deprecated `wv` (Attribute will be removed in 4.0.0, use self instead).\n",
            "  model.wv['man']\n"
          ]
        },
        {
          "data": {
            "text/plain": [
              "array([ 0.37013 , -0.39648 , -0.021712, -0.6301  , -0.3189  ,  0.34329 ,\n",
              "        0.10968 ,  0.4879  , -0.48663 ,  0.36837 , -0.39179 ,  0.25414 ,\n",
              "       -4.9282  ,  0.067597,  0.37147 ,  0.36817 ,  1.1655  ,  0.092116,\n",
              "       -0.87735 , -0.74562 ,  0.40903 ,  1.5672  , -0.23879 ,  0.24755 ,\n",
              "        0.76386 ], dtype=float32)"
            ]
          },
          "execution_count": 35,
          "metadata": {},
          "output_type": "execute_result"
        }
      ],
      "source": [
        "# Get the actual value of the word embedding\n",
        "print(model.wv['man'].shape)\n",
        "model.wv['man']"
      ]
    },
    {
      "cell_type": "markdown",
      "metadata": {
        "id": "pqLruu6247Ze"
      },
      "source": [
        "# [Tips] Play with Colab Form Fields \n",
        "**The Form** supports multiple types of fields, including **input fields**, **dropdown menus**. \n",
        "\n",
        "In Lab1 E1, we already used the input fields. Let's try more now. You can edit this section by double-clicking it. \n",
        "\n",
        "Let's get familiar by changing the value in each input field (on the right) and checking the changes in the code (on the left) - and vice versa"
      ]
    },
    {
      "cell_type": "code",
      "execution_count": null,
      "metadata": {
        "colab": {
          "base_uri": "https://localhost:8080/"
        },
        "id": "XBNvQmee5QIG",
        "outputId": "ddcec6f5-1a8a-420c-aee0-9771043d565c"
      },
      "outputs": [
        {
          "name": "stdout",
          "output_type": "stream",
          "text": [
            "string is examples\n",
            "slider_value 117\n"
          ]
        }
      ],
      "source": [
        "#@title Example form fields\n",
        "#@markdown please put description\n",
        "\n",
        "string = 'examples'  #@param {type: \"string\"}\n",
        "slider_value = 117  #@param {type: \"slider\", min: 100, max: 200}\n",
        "number = 102  #@param {type: \"number\"}\n",
        "date = '2023-02-17'  #@param {type: \"date\"}\n",
        "pick_me = \"monday\"  #@param ['monday', 'tuesday', 'wednesday', 'thursday']\n",
        "select_or_input = \"apples\" #@param [\"apples\", \"bananas\", \"oranges\"] {allow-input: true}\n",
        "\n",
        "\n",
        "#print the output\n",
        "print(\"string is\",string)\n",
        "print('slider_value',slider_value)"
      ]
    },
    {
      "cell_type": "markdown",
      "metadata": {
        "id": "UfESzUvhCZOt"
      },
      "source": [
        "# Lab 2 Exercise\n",
        "Please complete the following **question E1** for Lab 2 and check with your Tutor (Lab Facilitator) in the lab. \n",
        "\n",
        "**Submission Due**: Your Lab 3 (in Week 4)\n",
        "\n",
        "**Submission Method**: Show your final code to your tutor during the Lab."
      ]
    },
    {
      "cell_type": "markdown",
      "metadata": {
        "id": "DupJY3rOcozM"
      },
      "source": [
        "## E1. Let's find synonyms (2 Marks)\n",
        "Let's assume the cosine similarity, or distance, between two word embedding vectors can indicate if the words are semantically similar to each other. In this exercise, you will implement a function called find_synonym(), in which:\n",
        "\n",
        "1. A list of 6 words are given\n",
        "2. You need to implement your own algorithm to find the **synonym for each of the words (i.e. words with the highest cosine similarity or smallest distance)** in the list **from the rest of 5 words** based on the cosine similarity calculated. (Using the .similarity() or distance() function from *Load pretrained word embedding model using API* section above may help)\n",
        "3. Print out the synonyms found\n",
        "\n",
        "Please use the pretrained 50-dimensional GloVe word embedding trained on wikipedia and gigaword corpus. (You can use the gensim.downloader to load by passing 'glove-wiki-gigaword-50' to the .load() function, refer to the *Load pretrained word embedding model using API* section above)\n",
        "\n",
        "Before the function, you may need to import any required libraries.\n",
        "\n",
        "\n",
        "\n",
        "\n"
      ]
    },
    {
      "cell_type": "code",
      "execution_count": null,
      "metadata": {
        "id": "HCd23jclUGYF"
      },
      "outputs": [],
      "source": [
        "# Complete the following function based on the requirements above\n",
        "\n",
        "# The list of words to find synonyms\n",
        "words = [\"dog\", \"cat\", \"person\", \"computer\", \"people\", \"laptop\"]\n",
        " \n",
        "# Load GloVe\n",
        " \n",
        "def find_synonym(word):  \n",
        " \n",
        "  \n",
        "  # Find synonym and return the synonym from the given words list for the given word \n",
        "  \n",
        "\n",
        "  \n",
        " \n",
        "# Call the function to get the synonyms and print out the synonyms for each word\n"
      ]
    },
    {
      "cell_type": "markdown",
      "metadata": {
        "id": "3180sHtECxHv"
      },
      "source": [
        "###**E1 Sample output**\n",
        "\n",
        "The following is **the sample output for E1** - Please just only check the output **format**, i.e. your output DO NOT need to be exactly the same, as long as you fullfill all the E1 requirements given above."
      ]
    },
    {
      "cell_type": "markdown",
      "metadata": {
        "id": "0J7tuXLOC0Gh"
      },
      "source": [
        "![image.png](data:image/png;base64,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)"
      ]
    },
    {
      "cell_type": "markdown",
      "metadata": {
        "id": "YrjbuZYrXD88"
      },
      "source": [
        "# Extension"
      ]
    },
    {
      "cell_type": "markdown",
      "metadata": {
        "id": "8UWjBxLdTcEi"
      },
      "source": [
        "## Word Embedding Visual Inspector (WEVI)\n",
        "If you would like to visualise how Word2Vec is learning, the following link is useful https://ronxin.github.io/wevi/"
      ]
    }
  ],
  "metadata": {
    "accelerator": "GPU",
    "colab": {
      "include_colab_link": true,
      "provenance": [],
      "toc_visible": true
    },
    "gpuClass": "standard",
    "kernelspec": {
      "display_name": "Python 3",
      "name": "python3"
    },
    "language_info": {
      "codemirror_mode": {
        "name": "ipython",
        "version": 3
      },
      "file_extension": ".py",
      "mimetype": "text/x-python",
      "name": "python",
      "nbconvert_exporter": "python",
      "pygments_lexer": "ipython3",
      "version": "3.10.9"
    }
  },
  "nbformat": 4,
  "nbformat_minor": 0
}
